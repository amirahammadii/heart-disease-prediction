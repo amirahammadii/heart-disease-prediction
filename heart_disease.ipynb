{
  "cells": [
    {
      "cell_type": "markdown",
      "metadata": {
        "id": "view-in-github",
        "colab_type": "text"
      },
      "source": [
        "<a href=\"https://colab.research.google.com/github/amirahammadii/heart-disease-prediction/blob/main/heart_disease.ipynb\" target=\"_parent\"><img src=\"https://colab.research.google.com/assets/colab-badge.svg\" alt=\"Open In Colab\"/></a>"
      ]
    },
    {
      "cell_type": "code",
      "execution_count": null,
      "id": "9c68ae61",
      "metadata": {
        "id": "9c68ae61"
      },
      "outputs": [],
      "source": [
        "import pandas as pd\n",
        "import numpy as np\n",
        "import seaborn as sns\n",
        "import matplotlib.pyplot as plt\n",
        "from sklearn.preprocessing import LabelEncoder\n",
        "from sklearn.model_selection import train_test_split\n",
        "from sklearn.preprocessing import StandardScaler, OneHotEncoder\n",
        "from tensorflow.keras.models import Sequential\n",
        "from tensorflow.keras.layers import Dense, Concatenate"
      ]
    },
    {
      "cell_type": "code",
      "source": [
        "from google.colab import drive\n",
        "drive.mount('/content/drive')"
      ],
      "metadata": {
        "colab": {
          "base_uri": "https://localhost:8080/"
        },
        "id": "m--ep5hz6SMr",
        "outputId": "d4ec1f16-38ba-44d3-fc9e-b471fdcdca67"
      },
      "id": "m--ep5hz6SMr",
      "execution_count": null,
      "outputs": [
        {
          "output_type": "stream",
          "name": "stdout",
          "text": [
            "Mounted at /content/drive\n"
          ]
        }
      ]
    },
    {
      "cell_type": "code",
      "execution_count": null,
      "id": "7810a082",
      "metadata": {
        "id": "7810a082",
        "outputId": "e9514d5d-cb2f-425d-c75c-d9f4c8955812"
      },
      "outputs": [
        {
          "data": {
            "text/html": [
              "<div>\n",
              "<style scoped>\n",
              "    .dataframe tbody tr th:only-of-type {\n",
              "        vertical-align: middle;\n",
              "    }\n",
              "\n",
              "    .dataframe tbody tr th {\n",
              "        vertical-align: top;\n",
              "    }\n",
              "\n",
              "    .dataframe thead th {\n",
              "        text-align: right;\n",
              "    }\n",
              "</style>\n",
              "<table border=\"1\" class=\"dataframe\">\n",
              "  <thead>\n",
              "    <tr style=\"text-align: right;\">\n",
              "      <th></th>\n",
              "      <th>Age</th>\n",
              "      <th>Sex</th>\n",
              "      <th>ChestPainType</th>\n",
              "      <th>RestingBP</th>\n",
              "      <th>Cholesterol</th>\n",
              "      <th>FastingBS</th>\n",
              "      <th>RestingECG</th>\n",
              "      <th>MaxHR</th>\n",
              "      <th>ExerciseAngina</th>\n",
              "      <th>Oldpeak</th>\n",
              "      <th>ST_Slope</th>\n",
              "      <th>HeartDisease</th>\n",
              "    </tr>\n",
              "  </thead>\n",
              "  <tbody>\n",
              "    <tr>\n",
              "      <th>0</th>\n",
              "      <td>40</td>\n",
              "      <td>M</td>\n",
              "      <td>ATA</td>\n",
              "      <td>140</td>\n",
              "      <td>289</td>\n",
              "      <td>0</td>\n",
              "      <td>Normal</td>\n",
              "      <td>172</td>\n",
              "      <td>N</td>\n",
              "      <td>0.0</td>\n",
              "      <td>Up</td>\n",
              "      <td>0</td>\n",
              "    </tr>\n",
              "    <tr>\n",
              "      <th>1</th>\n",
              "      <td>49</td>\n",
              "      <td>F</td>\n",
              "      <td>NAP</td>\n",
              "      <td>160</td>\n",
              "      <td>180</td>\n",
              "      <td>0</td>\n",
              "      <td>Normal</td>\n",
              "      <td>156</td>\n",
              "      <td>N</td>\n",
              "      <td>1.0</td>\n",
              "      <td>Flat</td>\n",
              "      <td>1</td>\n",
              "    </tr>\n",
              "    <tr>\n",
              "      <th>2</th>\n",
              "      <td>37</td>\n",
              "      <td>M</td>\n",
              "      <td>ATA</td>\n",
              "      <td>130</td>\n",
              "      <td>283</td>\n",
              "      <td>0</td>\n",
              "      <td>ST</td>\n",
              "      <td>98</td>\n",
              "      <td>N</td>\n",
              "      <td>0.0</td>\n",
              "      <td>Up</td>\n",
              "      <td>0</td>\n",
              "    </tr>\n",
              "    <tr>\n",
              "      <th>3</th>\n",
              "      <td>48</td>\n",
              "      <td>F</td>\n",
              "      <td>ASY</td>\n",
              "      <td>138</td>\n",
              "      <td>214</td>\n",
              "      <td>0</td>\n",
              "      <td>Normal</td>\n",
              "      <td>108</td>\n",
              "      <td>Y</td>\n",
              "      <td>1.5</td>\n",
              "      <td>Flat</td>\n",
              "      <td>1</td>\n",
              "    </tr>\n",
              "    <tr>\n",
              "      <th>4</th>\n",
              "      <td>54</td>\n",
              "      <td>M</td>\n",
              "      <td>NAP</td>\n",
              "      <td>150</td>\n",
              "      <td>195</td>\n",
              "      <td>0</td>\n",
              "      <td>Normal</td>\n",
              "      <td>122</td>\n",
              "      <td>N</td>\n",
              "      <td>0.0</td>\n",
              "      <td>Up</td>\n",
              "      <td>0</td>\n",
              "    </tr>\n",
              "  </tbody>\n",
              "</table>\n",
              "</div>"
            ],
            "text/plain": [
              "   Age Sex ChestPainType  RestingBP  Cholesterol  FastingBS RestingECG  MaxHR  \\\n",
              "0   40   M           ATA        140          289          0     Normal    172   \n",
              "1   49   F           NAP        160          180          0     Normal    156   \n",
              "2   37   M           ATA        130          283          0         ST     98   \n",
              "3   48   F           ASY        138          214          0     Normal    108   \n",
              "4   54   M           NAP        150          195          0     Normal    122   \n",
              "\n",
              "  ExerciseAngina  Oldpeak ST_Slope  HeartDisease  \n",
              "0              N      0.0       Up             0  \n",
              "1              N      1.0     Flat             1  \n",
              "2              N      0.0       Up             0  \n",
              "3              Y      1.5     Flat             1  \n",
              "4              N      0.0       Up             0  "
            ]
          },
          "execution_count": 2,
          "metadata": {},
          "output_type": "execute_result"
        }
      ],
      "source": [
        "df = pd.read_csv('/content/drive/MyDrive/heart.csv').sort_index()\n",
        "df.head()"
      ]
    },
    {
      "cell_type": "code",
      "execution_count": null,
      "id": "b1f0ebea",
      "metadata": {
        "id": "b1f0ebea",
        "outputId": "f1a3d578-3e19-4b39-ff82-b519520b1456"
      },
      "outputs": [
        {
          "data": {
            "text/plain": [
              "(918, 12)"
            ]
          },
          "execution_count": 3,
          "metadata": {},
          "output_type": "execute_result"
        }
      ],
      "source": [
        "df.shape"
      ]
    },
    {
      "cell_type": "code",
      "execution_count": null,
      "id": "fd81deb4",
      "metadata": {
        "id": "fd81deb4",
        "outputId": "d175a13a-adad-46da-8a04-54c3480fc836"
      },
      "outputs": [
        {
          "data": {
            "text/plain": [
              "(918, 12)"
            ]
          },
          "execution_count": 4,
          "metadata": {},
          "output_type": "execute_result"
        }
      ],
      "source": [
        "df.shape # 12 variable and 918 raw"
      ]
    },
    {
      "cell_type": "code",
      "execution_count": null,
      "id": "b237e2e2",
      "metadata": {
        "id": "b237e2e2",
        "outputId": "a7bed950-a3e7-42a3-8e20-b1266bebc96f"
      },
      "outputs": [
        {
          "data": {
            "text/html": [
              "<div>\n",
              "<style scoped>\n",
              "    .dataframe tbody tr th:only-of-type {\n",
              "        vertical-align: middle;\n",
              "    }\n",
              "\n",
              "    .dataframe tbody tr th {\n",
              "        vertical-align: top;\n",
              "    }\n",
              "\n",
              "    .dataframe thead th {\n",
              "        text-align: right;\n",
              "    }\n",
              "</style>\n",
              "<table border=\"1\" class=\"dataframe\">\n",
              "  <thead>\n",
              "    <tr style=\"text-align: right;\">\n",
              "      <th></th>\n",
              "      <th>Age</th>\n",
              "      <th>RestingBP</th>\n",
              "      <th>Cholesterol</th>\n",
              "      <th>FastingBS</th>\n",
              "      <th>MaxHR</th>\n",
              "      <th>Oldpeak</th>\n",
              "      <th>HeartDisease</th>\n",
              "    </tr>\n",
              "  </thead>\n",
              "  <tbody>\n",
              "    <tr>\n",
              "      <th>count</th>\n",
              "      <td>918.000000</td>\n",
              "      <td>918.000000</td>\n",
              "      <td>918.000000</td>\n",
              "      <td>918.000000</td>\n",
              "      <td>918.000000</td>\n",
              "      <td>918.000000</td>\n",
              "      <td>918.000000</td>\n",
              "    </tr>\n",
              "    <tr>\n",
              "      <th>mean</th>\n",
              "      <td>53.510893</td>\n",
              "      <td>132.396514</td>\n",
              "      <td>198.799564</td>\n",
              "      <td>0.233115</td>\n",
              "      <td>136.809368</td>\n",
              "      <td>0.887364</td>\n",
              "      <td>0.553377</td>\n",
              "    </tr>\n",
              "    <tr>\n",
              "      <th>std</th>\n",
              "      <td>9.432617</td>\n",
              "      <td>18.514154</td>\n",
              "      <td>109.384145</td>\n",
              "      <td>0.423046</td>\n",
              "      <td>25.460334</td>\n",
              "      <td>1.066570</td>\n",
              "      <td>0.497414</td>\n",
              "    </tr>\n",
              "    <tr>\n",
              "      <th>min</th>\n",
              "      <td>28.000000</td>\n",
              "      <td>0.000000</td>\n",
              "      <td>0.000000</td>\n",
              "      <td>0.000000</td>\n",
              "      <td>60.000000</td>\n",
              "      <td>-2.600000</td>\n",
              "      <td>0.000000</td>\n",
              "    </tr>\n",
              "    <tr>\n",
              "      <th>25%</th>\n",
              "      <td>47.000000</td>\n",
              "      <td>120.000000</td>\n",
              "      <td>173.250000</td>\n",
              "      <td>0.000000</td>\n",
              "      <td>120.000000</td>\n",
              "      <td>0.000000</td>\n",
              "      <td>0.000000</td>\n",
              "    </tr>\n",
              "    <tr>\n",
              "      <th>50%</th>\n",
              "      <td>54.000000</td>\n",
              "      <td>130.000000</td>\n",
              "      <td>223.000000</td>\n",
              "      <td>0.000000</td>\n",
              "      <td>138.000000</td>\n",
              "      <td>0.600000</td>\n",
              "      <td>1.000000</td>\n",
              "    </tr>\n",
              "    <tr>\n",
              "      <th>75%</th>\n",
              "      <td>60.000000</td>\n",
              "      <td>140.000000</td>\n",
              "      <td>267.000000</td>\n",
              "      <td>0.000000</td>\n",
              "      <td>156.000000</td>\n",
              "      <td>1.500000</td>\n",
              "      <td>1.000000</td>\n",
              "    </tr>\n",
              "    <tr>\n",
              "      <th>max</th>\n",
              "      <td>77.000000</td>\n",
              "      <td>200.000000</td>\n",
              "      <td>603.000000</td>\n",
              "      <td>1.000000</td>\n",
              "      <td>202.000000</td>\n",
              "      <td>6.200000</td>\n",
              "      <td>1.000000</td>\n",
              "    </tr>\n",
              "  </tbody>\n",
              "</table>\n",
              "</div>"
            ],
            "text/plain": [
              "              Age   RestingBP  Cholesterol   FastingBS       MaxHR  \\\n",
              "count  918.000000  918.000000   918.000000  918.000000  918.000000   \n",
              "mean    53.510893  132.396514   198.799564    0.233115  136.809368   \n",
              "std      9.432617   18.514154   109.384145    0.423046   25.460334   \n",
              "min     28.000000    0.000000     0.000000    0.000000   60.000000   \n",
              "25%     47.000000  120.000000   173.250000    0.000000  120.000000   \n",
              "50%     54.000000  130.000000   223.000000    0.000000  138.000000   \n",
              "75%     60.000000  140.000000   267.000000    0.000000  156.000000   \n",
              "max     77.000000  200.000000   603.000000    1.000000  202.000000   \n",
              "\n",
              "          Oldpeak  HeartDisease  \n",
              "count  918.000000    918.000000  \n",
              "mean     0.887364      0.553377  \n",
              "std      1.066570      0.497414  \n",
              "min     -2.600000      0.000000  \n",
              "25%      0.000000      0.000000  \n",
              "50%      0.600000      1.000000  \n",
              "75%      1.500000      1.000000  \n",
              "max      6.200000      1.000000  "
            ]
          },
          "execution_count": 5,
          "metadata": {},
          "output_type": "execute_result"
        }
      ],
      "source": [
        "df.describe()"
      ]
    },
    {
      "cell_type": "code",
      "execution_count": null,
      "id": "d75298cd",
      "metadata": {
        "id": "d75298cd",
        "outputId": "59372ba3-fa84-4763-ffef-6f143c5fdf5f"
      },
      "outputs": [
        {
          "data": {
            "text/plain": [
              "Age               0\n",
              "Sex               0\n",
              "ChestPainType     0\n",
              "RestingBP         0\n",
              "Cholesterol       0\n",
              "FastingBS         0\n",
              "RestingECG        0\n",
              "MaxHR             0\n",
              "ExerciseAngina    0\n",
              "Oldpeak           0\n",
              "ST_Slope          0\n",
              "HeartDisease      0\n",
              "dtype: int64"
            ]
          },
          "execution_count": 6,
          "metadata": {},
          "output_type": "execute_result"
        }
      ],
      "source": [
        "df.isna().sum() #No missing values"
      ]
    },
    {
      "cell_type": "code",
      "execution_count": null,
      "id": "79dfff04",
      "metadata": {
        "id": "79dfff04",
        "outputId": "faa5def3-18b7-43a6-a955-a1ec3e186f9c"
      },
      "outputs": [
        {
          "data": {
            "text/plain": [
              "0"
            ]
          },
          "execution_count": 7,
          "metadata": {},
          "output_type": "execute_result"
        }
      ],
      "source": [
        "df.duplicated().sum() #no duplicated raws"
      ]
    },
    {
      "cell_type": "code",
      "execution_count": null,
      "id": "d2c26603",
      "metadata": {
        "id": "d2c26603",
        "outputId": "51ad2536-0c46-43d8-a98c-e9ddc7c83932"
      },
      "outputs": [
        {
          "name": "stderr",
          "output_type": "stream",
          "text": [
            "C:\\Users\\windos 10\\anaconda3\\Lib\\site-packages\\sklearn\\preprocessing\\_encoders.py:868: FutureWarning: `sparse` was renamed to `sparse_output` in version 1.2 and will be removed in 1.4. `sparse_output` is ignored unless you leave `sparse` to its default value.\n",
            "  warnings.warn(\n"
          ]
        },
        {
          "data": {
            "text/plain": [
              "array([1., 1., 0., 0., 1., 0., 0., 0., 1., 0.])"
            ]
          },
          "execution_count": 21,
          "metadata": {},
          "output_type": "execute_result"
        }
      ],
      "source": [
        "encoder = OneHotEncoder(sparse=False, drop='first')\n",
        "cat_cols = [\"Sex\" , \"ChestPainType\" ,\"RestingECG\" , \"ExerciseAngina\" , \"ST_Slope\" , \"FastingBS\"]\n",
        "cat_data = encoder.fit_transform(df[cat_cols]) #Encoding Categorical Data\n",
        "cat_data[0]"
      ]
    },
    {
      "cell_type": "code",
      "execution_count": null,
      "id": "99adfd10",
      "metadata": {
        "id": "99adfd10",
        "outputId": "2e9d644f-0866-4edf-e779-efb0622c5cee"
      },
      "outputs": [
        {
          "data": {
            "text/plain": [
              "array([-1.4331398 ,  0.41090889,  0.82507026,  1.38292822, -0.83243239])"
            ]
          },
          "execution_count": 20,
          "metadata": {},
          "output_type": "execute_result"
        }
      ],
      "source": [
        "scaler = StandardScaler()\n",
        "num_column = [\"Age\" , \"RestingBP\" ,\"Cholesterol\" , \"MaxHR\" , \"Oldpeak\"]\n",
        "num_data = scaler.fit_transform(df[num_column]) #Scaling numerical Data\n",
        "num_data[0]"
      ]
    },
    {
      "cell_type": "code",
      "execution_count": null,
      "id": "cf1c0ffe",
      "metadata": {
        "id": "cf1c0ffe"
      },
      "outputs": [],
      "source": [
        "x = np.concatenate((num_data, cat_data), axis=1)\n",
        "y = df['HeartDisease']"
      ]
    },
    {
      "cell_type": "code",
      "execution_count": null,
      "id": "8fcfa7c8",
      "metadata": {
        "id": "8fcfa7c8"
      },
      "outputs": [],
      "source": [
        "x_train, x_test, y_train, y_test = train_test_split(x, y, test_size=0.2, random_state=42)"
      ]
    },
    {
      "cell_type": "code",
      "execution_count": null,
      "id": "06f0e922",
      "metadata": {
        "id": "06f0e922",
        "outputId": "76a75484-19b5-4ed8-a5f3-1af9c0c9b65b"
      },
      "outputs": [
        {
          "name": "stdout",
          "output_type": "stream",
          "text": [
            "Epoch 1/60\n",
            "23/23 [==============================] - 2s 21ms/step - loss: 2.5800 - accuracy: 0.4646 - val_loss: 1.0594 - val_accuracy: 0.4457\n",
            "Epoch 2/60\n",
            "23/23 [==============================] - 0s 7ms/step - loss: 0.7812 - accuracy: 0.5354 - val_loss: 0.7120 - val_accuracy: 0.6033\n",
            "Epoch 3/60\n",
            "23/23 [==============================] - 0s 8ms/step - loss: 0.6260 - accuracy: 0.6608 - val_loss: 0.6258 - val_accuracy: 0.6739\n",
            "Epoch 4/60\n",
            "23/23 [==============================] - 0s 10ms/step - loss: 0.5412 - accuracy: 0.7139 - val_loss: 0.6351 - val_accuracy: 0.6957\n",
            "Epoch 5/60\n",
            "23/23 [==============================] - 0s 10ms/step - loss: 0.4788 - accuracy: 0.7548 - val_loss: 0.5850 - val_accuracy: 0.7446\n",
            "Epoch 6/60\n",
            "23/23 [==============================] - 0s 9ms/step - loss: 0.4378 - accuracy: 0.8052 - val_loss: 0.5662 - val_accuracy: 0.7500\n",
            "Epoch 7/60\n",
            "23/23 [==============================] - 0s 15ms/step - loss: 0.4302 - accuracy: 0.8256 - val_loss: 0.5369 - val_accuracy: 0.7880\n",
            "Epoch 8/60\n",
            "23/23 [==============================] - 0s 7ms/step - loss: 0.4059 - accuracy: 0.8338 - val_loss: 0.4648 - val_accuracy: 0.8043\n",
            "Epoch 9/60\n",
            "23/23 [==============================] - 0s 7ms/step - loss: 0.3879 - accuracy: 0.8501 - val_loss: 0.5001 - val_accuracy: 0.8207\n",
            "Epoch 10/60\n",
            "23/23 [==============================] - 0s 7ms/step - loss: 0.3760 - accuracy: 0.8542 - val_loss: 0.4857 - val_accuracy: 0.8424\n",
            "Epoch 11/60\n",
            "23/23 [==============================] - 0s 6ms/step - loss: 0.3666 - accuracy: 0.8597 - val_loss: 0.4837 - val_accuracy: 0.8424\n",
            "Epoch 12/60\n",
            "23/23 [==============================] - 0s 8ms/step - loss: 0.3628 - accuracy: 0.8583 - val_loss: 0.4789 - val_accuracy: 0.8424\n",
            "Epoch 13/60\n",
            "23/23 [==============================] - 0s 10ms/step - loss: 0.3647 - accuracy: 0.8569 - val_loss: 0.4627 - val_accuracy: 0.8533\n",
            "Epoch 14/60\n",
            "23/23 [==============================] - 0s 6ms/step - loss: 0.3692 - accuracy: 0.8583 - val_loss: 0.5233 - val_accuracy: 0.8478\n",
            "Epoch 15/60\n",
            "23/23 [==============================] - 0s 6ms/step - loss: 0.3465 - accuracy: 0.8624 - val_loss: 0.4627 - val_accuracy: 0.8587\n",
            "Epoch 16/60\n",
            "23/23 [==============================] - 0s 6ms/step - loss: 0.3261 - accuracy: 0.8706 - val_loss: 0.4483 - val_accuracy: 0.8641\n",
            "Epoch 17/60\n",
            "23/23 [==============================] - 0s 6ms/step - loss: 0.3181 - accuracy: 0.8692 - val_loss: 0.4518 - val_accuracy: 0.8587\n",
            "Epoch 18/60\n",
            "23/23 [==============================] - 0s 7ms/step - loss: 0.3144 - accuracy: 0.8706 - val_loss: 0.5041 - val_accuracy: 0.8641\n",
            "Epoch 19/60\n",
            "23/23 [==============================] - 0s 6ms/step - loss: 0.3101 - accuracy: 0.8706 - val_loss: 0.5031 - val_accuracy: 0.8641\n",
            "Epoch 20/60\n",
            "23/23 [==============================] - 0s 6ms/step - loss: 0.3063 - accuracy: 0.8692 - val_loss: 0.5076 - val_accuracy: 0.8641\n",
            "Epoch 21/60\n",
            "23/23 [==============================] - 0s 6ms/step - loss: 0.3031 - accuracy: 0.8733 - val_loss: 0.4974 - val_accuracy: 0.8641\n",
            "Epoch 22/60\n",
            "23/23 [==============================] - 0s 6ms/step - loss: 0.3003 - accuracy: 0.8706 - val_loss: 0.5051 - val_accuracy: 0.8696\n",
            "Epoch 23/60\n",
            "23/23 [==============================] - 0s 6ms/step - loss: 0.3003 - accuracy: 0.8706 - val_loss: 0.4974 - val_accuracy: 0.8641\n",
            "Epoch 24/60\n",
            "23/23 [==============================] - 0s 6ms/step - loss: 0.2962 - accuracy: 0.8706 - val_loss: 0.4844 - val_accuracy: 0.8696\n",
            "Epoch 25/60\n",
            "23/23 [==============================] - 0s 7ms/step - loss: 0.2921 - accuracy: 0.8733 - val_loss: 0.5671 - val_accuracy: 0.8641\n",
            "Epoch 26/60\n",
            "23/23 [==============================] - 0s 6ms/step - loss: 0.2911 - accuracy: 0.8733 - val_loss: 0.4907 - val_accuracy: 0.8696\n",
            "Epoch 27/60\n",
            "23/23 [==============================] - 0s 6ms/step - loss: 0.2876 - accuracy: 0.8774 - val_loss: 0.4838 - val_accuracy: 0.8696\n",
            "Epoch 28/60\n",
            "23/23 [==============================] - 0s 6ms/step - loss: 0.2856 - accuracy: 0.8760 - val_loss: 0.5608 - val_accuracy: 0.8641\n",
            "Epoch 29/60\n",
            "23/23 [==============================] - 0s 6ms/step - loss: 0.2837 - accuracy: 0.8774 - val_loss: 0.5530 - val_accuracy: 0.8696\n",
            "Epoch 30/60\n",
            "23/23 [==============================] - 0s 6ms/step - loss: 0.2805 - accuracy: 0.8760 - val_loss: 0.5511 - val_accuracy: 0.8696\n",
            "Epoch 31/60\n",
            "23/23 [==============================] - 0s 7ms/step - loss: 0.2797 - accuracy: 0.8747 - val_loss: 0.4864 - val_accuracy: 0.8696\n",
            "Epoch 32/60\n",
            "23/23 [==============================] - 0s 7ms/step - loss: 0.2769 - accuracy: 0.8801 - val_loss: 0.5791 - val_accuracy: 0.8696\n",
            "Epoch 33/60\n",
            "23/23 [==============================] - 0s 6ms/step - loss: 0.2762 - accuracy: 0.8747 - val_loss: 0.5433 - val_accuracy: 0.8696\n",
            "Epoch 34/60\n",
            "23/23 [==============================] - 0s 6ms/step - loss: 0.2737 - accuracy: 0.8787 - val_loss: 0.5411 - val_accuracy: 0.8696\n",
            "Epoch 35/60\n",
            "23/23 [==============================] - 0s 6ms/step - loss: 0.2728 - accuracy: 0.8801 - val_loss: 0.5672 - val_accuracy: 0.8696\n",
            "Epoch 36/60\n",
            "23/23 [==============================] - 0s 6ms/step - loss: 0.2698 - accuracy: 0.8842 - val_loss: 0.5497 - val_accuracy: 0.8641\n",
            "Epoch 37/60\n",
            "23/23 [==============================] - 0s 6ms/step - loss: 0.2672 - accuracy: 0.8815 - val_loss: 0.5480 - val_accuracy: 0.8641\n",
            "Epoch 38/60\n",
            "23/23 [==============================] - 0s 6ms/step - loss: 0.2681 - accuracy: 0.8801 - val_loss: 0.5430 - val_accuracy: 0.8641\n",
            "Epoch 39/60\n",
            "23/23 [==============================] - 0s 6ms/step - loss: 0.2639 - accuracy: 0.8828 - val_loss: 0.5624 - val_accuracy: 0.8641\n",
            "Epoch 40/60\n",
            "23/23 [==============================] - 0s 6ms/step - loss: 0.2627 - accuracy: 0.8774 - val_loss: 0.6903 - val_accuracy: 0.8641\n",
            "Epoch 41/60\n",
            "23/23 [==============================] - 0s 6ms/step - loss: 0.2598 - accuracy: 0.8828 - val_loss: 0.5437 - val_accuracy: 0.8750\n",
            "Epoch 42/60\n",
            "23/23 [==============================] - 0s 6ms/step - loss: 0.2600 - accuracy: 0.8856 - val_loss: 0.6240 - val_accuracy: 0.8696\n",
            "Epoch 43/60\n",
            "23/23 [==============================] - 0s 6ms/step - loss: 0.2583 - accuracy: 0.8815 - val_loss: 0.6345 - val_accuracy: 0.8696\n",
            "Epoch 44/60\n",
            "23/23 [==============================] - 0s 6ms/step - loss: 0.2577 - accuracy: 0.8828 - val_loss: 0.6318 - val_accuracy: 0.8696\n",
            "Epoch 45/60\n",
            "23/23 [==============================] - 0s 7ms/step - loss: 0.2541 - accuracy: 0.8842 - val_loss: 0.6197 - val_accuracy: 0.8750\n",
            "Epoch 46/60\n",
            "23/23 [==============================] - 0s 6ms/step - loss: 0.2502 - accuracy: 0.8801 - val_loss: 0.5690 - val_accuracy: 0.8696\n",
            "Epoch 47/60\n",
            "23/23 [==============================] - 0s 6ms/step - loss: 0.2490 - accuracy: 0.8856 - val_loss: 0.5598 - val_accuracy: 0.8804\n",
            "Epoch 48/60\n",
            "23/23 [==============================] - 0s 6ms/step - loss: 0.2483 - accuracy: 0.8828 - val_loss: 0.5472 - val_accuracy: 0.8859\n",
            "Epoch 49/60\n",
            "23/23 [==============================] - 0s 6ms/step - loss: 0.2461 - accuracy: 0.8842 - val_loss: 0.5588 - val_accuracy: 0.8804\n",
            "Epoch 50/60\n",
            "23/23 [==============================] - 0s 6ms/step - loss: 0.2455 - accuracy: 0.8842 - val_loss: 0.6273 - val_accuracy: 0.8804\n",
            "Epoch 51/60\n",
            "23/23 [==============================] - 0s 6ms/step - loss: 0.2420 - accuracy: 0.8815 - val_loss: 0.6311 - val_accuracy: 0.8859\n",
            "Epoch 52/60\n",
            "23/23 [==============================] - 0s 6ms/step - loss: 0.2420 - accuracy: 0.8842 - val_loss: 0.5615 - val_accuracy: 0.8859\n",
            "Epoch 53/60\n",
            "23/23 [==============================] - 0s 6ms/step - loss: 0.2412 - accuracy: 0.8856 - val_loss: 0.7314 - val_accuracy: 0.8750\n",
            "Epoch 54/60\n",
            "23/23 [==============================] - 0s 6ms/step - loss: 0.2388 - accuracy: 0.8883 - val_loss: 0.7041 - val_accuracy: 0.8859\n",
            "Epoch 55/60\n",
            "23/23 [==============================] - 0s 6ms/step - loss: 0.2358 - accuracy: 0.8869 - val_loss: 0.7141 - val_accuracy: 0.8859\n",
            "Epoch 56/60\n",
            "23/23 [==============================] - 0s 6ms/step - loss: 0.2332 - accuracy: 0.8883 - val_loss: 0.6170 - val_accuracy: 0.8859\n",
            "Epoch 57/60\n",
            "23/23 [==============================] - 0s 7ms/step - loss: 0.2321 - accuracy: 0.8856 - val_loss: 0.7691 - val_accuracy: 0.8696\n",
            "Epoch 58/60\n",
            "23/23 [==============================] - 0s 6ms/step - loss: 0.2342 - accuracy: 0.8951 - val_loss: 0.6014 - val_accuracy: 0.8804\n",
            "Epoch 59/60\n"
          ]
        },
        {
          "name": "stdout",
          "output_type": "stream",
          "text": [
            "23/23 [==============================] - 0s 6ms/step - loss: 0.2390 - accuracy: 0.8869 - val_loss: 0.6020 - val_accuracy: 0.8859\n",
            "Epoch 60/60\n",
            "23/23 [==============================] - 0s 6ms/step - loss: 0.5378 - accuracy: 0.8283 - val_loss: 0.6349 - val_accuracy: 0.8750\n"
          ]
        },
        {
          "data": {
            "text/plain": [
              "<keras.src.callbacks.History at 0x1f82ab670d0>"
            ]
          },
          "execution_count": 37,
          "metadata": {},
          "output_type": "execute_result"
        }
      ],
      "source": [
        "model = Sequential()\n",
        "model.add(Dense(32, activation='relu', input_dim=x_train.shape[1]))  # Input layer\n",
        "model.add(Dense(16, activation='relu'))\n",
        "model.add(Dense(8, activation='relu'))\n",
        "model.add(Dense(1, activation='relu'))\n",
        "model.compile(optimizer='adam', loss='binary_crossentropy', metrics=['accuracy'])\n",
        "model.fit(x_train, y_train, epochs=60, batch_size=32, validation_data=(x_test, y_test))"
      ]
    },
    {
      "cell_type": "code",
      "execution_count": null,
      "id": "96ab631e",
      "metadata": {
        "id": "96ab631e",
        "outputId": "b580de6a-cdc4-416c-e059-2b36ce3054e9"
      },
      "outputs": [
        {
          "name": "stdout",
          "output_type": "stream",
          "text": [
            "6/6 - 0s - loss: 0.6349 - accuracy: 0.8750 - 57ms/epoch - 9ms/step\n",
            "0.875\n"
          ]
        }
      ],
      "source": [
        "test_loss, test_acc = model.evaluate(x_test,  y_test, verbose=2)\n",
        "print(test_acc)"
      ]
    },
    {
      "cell_type": "code",
      "execution_count": null,
      "id": "a1fedb55",
      "metadata": {
        "id": "a1fedb55"
      },
      "outputs": [],
      "source": []
    }
  ],
  "metadata": {
    "kernelspec": {
      "display_name": "Python 3 (ipykernel)",
      "language": "python",
      "name": "python3"
    },
    "language_info": {
      "codemirror_mode": {
        "name": "ipython",
        "version": 3
      },
      "file_extension": ".py",
      "mimetype": "text/x-python",
      "name": "python",
      "nbconvert_exporter": "python",
      "pygments_lexer": "ipython3",
      "version": "3.11.3"
    },
    "colab": {
      "provenance": [],
      "include_colab_link": true
    }
  },
  "nbformat": 4,
  "nbformat_minor": 5
}